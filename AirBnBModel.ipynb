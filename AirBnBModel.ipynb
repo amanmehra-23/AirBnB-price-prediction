{
  "nbformat": 4,
  "nbformat_minor": 0,
  "metadata": {
    "colab": {
      "provenance": [],
      "mount_file_id": "1GTuYPeLplSpg-sTzUGyZwop3Z4-uCaSE",
      "authorship_tag": "ABX9TyOXUx0NM+v0E/1hWmVVxL6L",
      "include_colab_link": true
    },
    "kernelspec": {
      "name": "python3",
      "display_name": "Python 3"
    },
    "language_info": {
      "name": "python"
    }
  },
  "cells": [
    {
      "cell_type": "markdown",
      "metadata": {
        "id": "view-in-github",
        "colab_type": "text"
      },
      "source": [
        "<a href=\"https://colab.research.google.com/github/amanmehra-23/AirBnB-price-prediction/blob/main/AirBnBModel.ipynb\" target=\"_parent\"><img src=\"https://colab.research.google.com/assets/colab-badge.svg\" alt=\"Open In Colab\"/></a>"
      ]
    },
    {
      "cell_type": "code",
      "execution_count": null,
      "metadata": {
        "id": "vnF2ymtoxOsn"
      },
      "outputs": [],
      "source": [
        "import pandas as pd\n",
        "import numpy as np\n",
        "from sklearn.preprocessing import  LabelEncoder, StandardScaler\n",
        "from sklearn.metrics import mean_squared_error, r2_score\n",
        "from sklearn.neighbors import KNeighborsRegressor\n",
        "from sklearn.tree import DecisionTreeRegressor\n",
        "from sklearn.ensemble import RandomForestRegressor,AdaBoostRegressor\n",
        "from sklearn.svm import SVR\n",
        "from sklearn.linear_model import LinearRegression, Ridge,Lasso\n",
        "from sklearn.metrics import r2_score, mean_absolute_error, mean_squared_error\n",
        "from sklearn.model_selection import RandomizedSearchCV\n",
        "from catboost import CatBoostRegressor\n",
        "from xgboost import XGBRegressor\n",
        "from sklearn.model_selection import GridSearchCV\n",
        "import warnings\n",
        "warnings.simplefilter('ignore')"
      ]
    },
    {
      "cell_type": "code",
      "source": [
        "df = pd.read_csv(\"/content/drive/MyDrive/Airbnb/final_data.csv\")"
      ],
      "metadata": {
        "id": "oFRQjKWAyaUx"
      },
      "execution_count": null,
      "outputs": []
    },
    {
      "cell_type": "code",
      "source": [
        "df.info()"
      ],
      "metadata": {
        "colab": {
          "base_uri": "https://localhost:8080/"
        },
        "id": "1ruCfXbOyqvS",
        "outputId": "75e09a27-1d3c-411c-8735-e6f2c3ec0ff1"
      },
      "execution_count": null,
      "outputs": [
        {
          "output_type": "stream",
          "name": "stdout",
          "text": [
            "<class 'pandas.core.frame.DataFrame'>\n",
            "RangeIndex: 66660 entries, 0 to 66659\n",
            "Data columns (total 28 columns):\n",
            " #   Column                  Non-Null Count  Dtype  \n",
            "---  ------                  --------------  -----  \n",
            " 0   id                      66660 non-null  int64  \n",
            " 1   log_price               66660 non-null  float64\n",
            " 2   property_type           66660 non-null  object \n",
            " 3   room_type               66660 non-null  object \n",
            " 4   amenities               66660 non-null  object \n",
            " 5   accommodates            66660 non-null  int64  \n",
            " 6   bathrooms               66660 non-null  float64\n",
            " 7   bed_type                66660 non-null  object \n",
            " 8   cancellation_policy     66660 non-null  object \n",
            " 9   cleaning_fee            66660 non-null  bool   \n",
            " 10  city                    66660 non-null  object \n",
            " 11  description             66660 non-null  object \n",
            " 12  first_review            66660 non-null  object \n",
            " 13  host_has_profile_pic    66660 non-null  object \n",
            " 14  host_identity_verified  66660 non-null  object \n",
            " 15  host_response_rate      66660 non-null  float64\n",
            " 16  host_since              66660 non-null  object \n",
            " 17  instant_bookable        66660 non-null  object \n",
            " 18  last_review             66660 non-null  object \n",
            " 19  latitude                66660 non-null  float64\n",
            " 20  longitude               66660 non-null  float64\n",
            " 21  name                    66660 non-null  object \n",
            " 22  neighbourhood           66660 non-null  object \n",
            " 23  number_of_reviews       66660 non-null  int64  \n",
            " 24  review_scores_rating    66660 non-null  float64\n",
            " 25  zipcode                 66660 non-null  object \n",
            " 26  bedrooms                66660 non-null  float64\n",
            " 27  beds                    66660 non-null  float64\n",
            "dtypes: bool(1), float64(8), int64(3), object(16)\n",
            "memory usage: 13.8+ MB\n"
          ]
        }
      ]
    },
    {
      "cell_type": "code",
      "source": [
        "amenities_count = []\n",
        "for i in df[\"amenities\"]:\n",
        "    amenities_count.append(len(i))\n",
        "\n",
        "df[\"amenities\"] = amenities_count\n"
      ],
      "metadata": {
        "id": "_BQ8KQn62kgr"
      },
      "execution_count": null,
      "outputs": []
    },
    {
      "cell_type": "code",
      "source": [
        "categorical_col = []\n",
        "numerical_col = []\n",
        "for column in df.columns:\n",
        "\n",
        "    if df[column].dtypes != \"float64\" and df[column].dtypes != \"int64\":\n",
        "        categorical_col.append(column)\n",
        "    else:\n",
        "        numerical_col.append(column)"
      ],
      "metadata": {
        "id": "AXgjQ_Df1VqE"
      },
      "execution_count": null,
      "outputs": []
    },
    {
      "cell_type": "code",
      "source": [
        "print(numerical_col)\n",
        "len(numerical_col)"
      ],
      "metadata": {
        "colab": {
          "base_uri": "https://localhost:8080/"
        },
        "id": "VnDmD_o52BR-",
        "outputId": "c5dc569d-ff23-4d1b-dcab-8b33e53ce4f6"
      },
      "execution_count": null,
      "outputs": [
        {
          "output_type": "stream",
          "name": "stdout",
          "text": [
            "['id', 'log_price', 'amenities', 'accommodates', 'bathrooms', 'host_response_rate', 'latitude', 'longitude', 'number_of_reviews', 'review_scores_rating', 'bedrooms', 'beds']\n"
          ]
        },
        {
          "output_type": "execute_result",
          "data": {
            "text/plain": [
              "12"
            ]
          },
          "metadata": {},
          "execution_count": 66
        }
      ]
    },
    {
      "cell_type": "code",
      "source": [
        "print(categorical_col)\n",
        "len(categorical_col)"
      ],
      "metadata": {
        "colab": {
          "base_uri": "https://localhost:8080/"
        },
        "id": "ySecxLgU2Dmg",
        "outputId": "61e4cd34-d535-4ea4-c32c-8a201a5dcae4"
      },
      "execution_count": null,
      "outputs": [
        {
          "output_type": "stream",
          "name": "stdout",
          "text": [
            "['property_type', 'room_type', 'bed_type', 'cancellation_policy', 'cleaning_fee', 'city', 'description', 'first_review', 'host_has_profile_pic', 'host_identity_verified', 'host_since', 'instant_bookable', 'last_review', 'name', 'neighbourhood', 'zipcode']\n"
          ]
        },
        {
          "output_type": "execute_result",
          "data": {
            "text/plain": [
              "16"
            ]
          },
          "metadata": {},
          "execution_count": 67
        }
      ]
    },
    {
      "cell_type": "code",
      "source": [
        "categorical_col = [col for col in categorical_col if col not in [\"zipcode\", \"last_review\", \"first_review\", \"name\",\"description\"]]"
      ],
      "metadata": {
        "id": "4yDuYBNE4-aG"
      },
      "execution_count": null,
      "outputs": []
    },
    {
      "cell_type": "code",
      "source": [
        "numerical_col = [col for col in numerical_col if col not in [\"id\", \"log_price\"]]"
      ],
      "metadata": {
        "id": "hliVDGjSUv-l"
      },
      "execution_count": null,
      "outputs": []
    },
    {
      "cell_type": "code",
      "source": [
        "print(categorical_col)\n",
        "print(numerical_col)"
      ],
      "metadata": {
        "colab": {
          "base_uri": "https://localhost:8080/"
        },
        "id": "8J1z582lRMQc",
        "outputId": "c7a6aec4-fc82-4bed-fe12-1541c2c275e5"
      },
      "execution_count": null,
      "outputs": [
        {
          "output_type": "stream",
          "name": "stdout",
          "text": [
            "['property_type', 'room_type', 'bed_type', 'cancellation_policy', 'cleaning_fee', 'city', 'host_has_profile_pic', 'host_identity_verified', 'host_since', 'instant_bookable', 'neighbourhood']\n",
            "['amenities', 'accommodates', 'bathrooms', 'host_response_rate', 'latitude', 'longitude', 'number_of_reviews', 'review_scores_rating', 'bedrooms', 'beds']\n"
          ]
        }
      ]
    },
    {
      "cell_type": "code",
      "source": [
        "y = df[\"log_price\"]"
      ],
      "metadata": {
        "id": "A2uxduPFPAC6"
      },
      "execution_count": null,
      "outputs": []
    },
    {
      "cell_type": "code",
      "source": [
        "le = LabelEncoder()\n",
        "for col in categorical_col:\n",
        "    df[col] = le.fit_transform(df[col])"
      ],
      "metadata": {
        "id": "tQTB28kDVVhq"
      },
      "execution_count": null,
      "outputs": []
    },
    {
      "cell_type": "code",
      "source": [
        "\n",
        "numerical_df = df[numerical_col]\n",
        "categorical_df = df[categorical_col]\n",
        "X = pd.concat([numerical_df, categorical_df], axis=1)"
      ],
      "metadata": {
        "id": "Jdd8mvm7WUZi"
      },
      "execution_count": null,
      "outputs": []
    },
    {
      "cell_type": "code",
      "source": [
        "from sklearn.model_selection import train_test_split\n",
        "X_train, X_test, y_train, y_test = train_test_split(X,y,test_size=0.2,random_state=101)\n",
        "X_train.shape, X_test.shape\n"
      ],
      "metadata": {
        "colab": {
          "base_uri": "https://localhost:8080/"
        },
        "id": "mBiZzR_d69xL",
        "outputId": "90a0101a-3ba2-4851-9c66-e09e32122cda"
      },
      "execution_count": null,
      "outputs": [
        {
          "output_type": "execute_result",
          "data": {
            "text/plain": [
              "((53328, 21), (13332, 21))"
            ]
          },
          "metadata": {},
          "execution_count": 74
        }
      ]
    },
    {
      "cell_type": "code",
      "source": [
        "def evaluate_model(true, predicted):\n",
        "    mae = mean_absolute_error(true, predicted)\n",
        "    mse = mean_squared_error(true, predicted)\n",
        "    rmse = np.sqrt(mean_squared_error(true, predicted))\n",
        "    r2_square = r2_score(true, predicted)\n",
        "    return mae, rmse, r2_square"
      ],
      "metadata": {
        "id": "WLwUZD7gigm_"
      },
      "execution_count": null,
      "outputs": []
    },
    {
      "cell_type": "code",
      "source": [
        "models = {\n",
        "    \"Linear Regression\": LinearRegression(),\n",
        "    \"Lasso\": Lasso(),\n",
        "    \"Ridge\": Ridge(),\n",
        "    \"K-Neighbors Regressor\": KNeighborsRegressor(),\n",
        "    \"Decision Tree\": DecisionTreeRegressor(),\n",
        "    \"Random Forest Regressor\": RandomForestRegressor(),\n",
        "    \"XGBRegressor\": XGBRegressor(),\n",
        "    \"CatBoosting Regressor\": CatBoostRegressor(verbose=False),\n",
        "    \"AdaBoost Regressor\": AdaBoostRegressor()\n",
        "}\n",
        "\n",
        "model_list = []\n",
        "r2_list = []\n",
        "\n",
        "for model_name, model in models.items():\n",
        "    print(f\"Training {model_name}\")\n",
        "\n",
        "    # Train model\n",
        "    model.fit(X_train, y_train)\n",
        "\n",
        "    # Make predictions\n",
        "    y_train_pred = model.predict(X_train)\n",
        "    y_test_pred = model.predict(X_test)\n",
        "\n",
        "    # Evaluate Train and Test dataset\n",
        "    model_train_mae, model_train_rmse, model_train_r2 = evaluate_model(y_train, y_train_pred)\n",
        "    model_test_mae, model_test_rmse, model_test_r2 = evaluate_model(y_test, y_test_pred)\n",
        "\n",
        "    print(model_name)\n",
        "    model_list.append(model_name)\n",
        "\n",
        "    print('Model performance for Training set')\n",
        "    print(\"- Root Mean Squared Error: {:.4f}\".format(model_train_rmse))\n",
        "    print(\"- Mean Absolute Error: {:.4f}\".format(model_train_mae))\n",
        "    print(\"- R2 Score: {:.4f}\".format(model_train_r2))\n",
        "    print('----------------------------------')\n",
        "    print('Model performance for Test set')\n",
        "    print(\"- Root Mean Squared Error: {:.4f}\".format(model_test_rmse))\n",
        "    print(\"- Mean Absolute Error: {:.4f}\".format(model_test_mae))\n",
        "    print(\"- R2 Score: {:.4f}\".format(model_test_r2))\n",
        "    r2_list.append(model_test_r2)\n",
        "    print('='*35)\n",
        "    print('\\n')\n"
      ],
      "metadata": {
        "colab": {
          "base_uri": "https://localhost:8080/"
        },
        "id": "3muUDQ_i52n6",
        "outputId": "13d99034-726e-457e-8514-4a691ab8b5c9"
      },
      "execution_count": null,
      "outputs": [
        {
          "output_type": "stream",
          "name": "stdout",
          "text": [
            "Training Linear Regression\n",
            "Linear Regression\n",
            "Model performance for Training set\n",
            "- Root Mean Squared Error: 0.4811\n",
            "- Mean Absolute Error: 0.3628\n",
            "- R2 Score: 0.5393\n",
            "----------------------------------\n",
            "Model performance for Test set\n",
            "- Root Mean Squared Error: 0.4786\n",
            "- Mean Absolute Error: 0.3605\n",
            "- R2 Score: 0.5503\n",
            "===================================\n",
            "\n",
            "\n",
            "Training Lasso\n",
            "Lasso\n",
            "Model performance for Training set\n",
            "- Root Mean Squared Error: 0.6987\n",
            "- Mean Absolute Error: 0.5467\n",
            "- R2 Score: 0.0284\n",
            "----------------------------------\n",
            "Model performance for Test set\n",
            "- Root Mean Squared Error: 0.7022\n",
            "- Mean Absolute Error: 0.5511\n",
            "- R2 Score: 0.0318\n",
            "===================================\n",
            "\n",
            "\n",
            "Training Ridge\n",
            "Ridge\n",
            "Model performance for Training set\n",
            "- Root Mean Squared Error: 0.4811\n",
            "- Mean Absolute Error: 0.3628\n",
            "- R2 Score: 0.5393\n",
            "----------------------------------\n",
            "Model performance for Test set\n",
            "- Root Mean Squared Error: 0.4786\n",
            "- Mean Absolute Error: 0.3605\n",
            "- R2 Score: 0.5503\n",
            "===================================\n",
            "\n",
            "\n",
            "Training K-Neighbors Regressor\n",
            "K-Neighbors Regressor\n",
            "Model performance for Training set\n",
            "- Root Mean Squared Error: 0.5907\n",
            "- Mean Absolute Error: 0.4588\n",
            "- R2 Score: 0.3055\n",
            "----------------------------------\n",
            "Model performance for Test set\n",
            "- Root Mean Squared Error: 0.7265\n",
            "- Mean Absolute Error: 0.5679\n",
            "- R2 Score: -0.0364\n",
            "===================================\n",
            "\n",
            "\n",
            "Training Decision Tree\n",
            "Decision Tree\n",
            "Model performance for Training set\n",
            "- Root Mean Squared Error: 0.0000\n",
            "- Mean Absolute Error: 0.0000\n",
            "- R2 Score: 1.0000\n",
            "----------------------------------\n",
            "Model performance for Test set\n",
            "- Root Mean Squared Error: 0.5476\n",
            "- Mean Absolute Error: 0.3928\n",
            "- R2 Score: 0.4111\n",
            "===================================\n",
            "\n",
            "\n",
            "Training Random Forest Regressor\n",
            "Random Forest Regressor\n",
            "Model performance for Training set\n",
            "- Root Mean Squared Error: 0.1461\n",
            "- Mean Absolute Error: 0.1044\n",
            "- R2 Score: 0.9575\n",
            "----------------------------------\n",
            "Model performance for Test set\n",
            "- Root Mean Squared Error: 0.3907\n",
            "- Mean Absolute Error: 0.2797\n",
            "- R2 Score: 0.7002\n",
            "===================================\n",
            "\n",
            "\n",
            "Training XGBRegressor\n",
            "XGBRegressor\n",
            "Model performance for Training set\n",
            "- Root Mean Squared Error: 0.3277\n",
            "- Mean Absolute Error: 0.2403\n",
            "- R2 Score: 0.7863\n",
            "----------------------------------\n",
            "Model performance for Test set\n",
            "- Root Mean Squared Error: 0.3820\n",
            "- Mean Absolute Error: 0.2768\n",
            "- R2 Score: 0.7134\n",
            "===================================\n",
            "\n",
            "\n",
            "Training CatBoosting Regressor\n",
            "CatBoosting Regressor\n",
            "Model performance for Training set\n",
            "- Root Mean Squared Error: 0.3462\n",
            "- Mean Absolute Error: 0.2533\n",
            "- R2 Score: 0.7614\n",
            "----------------------------------\n",
            "Model performance for Test set\n",
            "- Root Mean Squared Error: 0.3771\n",
            "- Mean Absolute Error: 0.2731\n",
            "- R2 Score: 0.7208\n",
            "===================================\n",
            "\n",
            "\n",
            "Training AdaBoost Regressor\n",
            "AdaBoost Regressor\n",
            "Model performance for Training set\n",
            "- Root Mean Squared Error: 0.5205\n",
            "- Mean Absolute Error: 0.4027\n",
            "- R2 Score: 0.4609\n",
            "----------------------------------\n",
            "Model performance for Test set\n",
            "- Root Mean Squared Error: 0.5178\n",
            "- Mean Absolute Error: 0.3987\n",
            "- R2 Score: 0.4736\n",
            "===================================\n",
            "\n",
            "\n"
          ]
        }
      ]
    },
    {
      "cell_type": "code",
      "source": [
        "pd.DataFrame(list(zip(model_list, r2_list)), columns=['Model Name', 'R2_Score']).sort_values(by=[\"R2_Score\"],ascending=False)\n"
      ],
      "metadata": {
        "colab": {
          "base_uri": "https://localhost:8080/",
          "height": 328
        },
        "id": "h15Vr8C06Oxh",
        "outputId": "b48053f1-c318-4ea2-8952-fa86168c09f9"
      },
      "execution_count": null,
      "outputs": [
        {
          "output_type": "execute_result",
          "data": {
            "text/plain": [
              "                Model Name  R2_Score\n",
              "7    CatBoosting Regressor  0.720768\n",
              "6             XGBRegressor  0.713430\n",
              "5  Random Forest Regressor  0.700225\n",
              "2                    Ridge  0.550329\n",
              "0        Linear Regression  0.550328\n",
              "8       AdaBoost Regressor  0.473604\n",
              "4            Decision Tree  0.411149\n",
              "1                    Lasso  0.031767\n",
              "3    K-Neighbors Regressor -0.036423"
            ],
            "text/html": [
              "\n",
              "  <div id=\"df-1cd8c213-19d6-484b-8643-b955750693cf\" class=\"colab-df-container\">\n",
              "    <div>\n",
              "<style scoped>\n",
              "    .dataframe tbody tr th:only-of-type {\n",
              "        vertical-align: middle;\n",
              "    }\n",
              "\n",
              "    .dataframe tbody tr th {\n",
              "        vertical-align: top;\n",
              "    }\n",
              "\n",
              "    .dataframe thead th {\n",
              "        text-align: right;\n",
              "    }\n",
              "</style>\n",
              "<table border=\"1\" class=\"dataframe\">\n",
              "  <thead>\n",
              "    <tr style=\"text-align: right;\">\n",
              "      <th></th>\n",
              "      <th>Model Name</th>\n",
              "      <th>R2_Score</th>\n",
              "    </tr>\n",
              "  </thead>\n",
              "  <tbody>\n",
              "    <tr>\n",
              "      <th>7</th>\n",
              "      <td>CatBoosting Regressor</td>\n",
              "      <td>0.720768</td>\n",
              "    </tr>\n",
              "    <tr>\n",
              "      <th>6</th>\n",
              "      <td>XGBRegressor</td>\n",
              "      <td>0.713430</td>\n",
              "    </tr>\n",
              "    <tr>\n",
              "      <th>5</th>\n",
              "      <td>Random Forest Regressor</td>\n",
              "      <td>0.700225</td>\n",
              "    </tr>\n",
              "    <tr>\n",
              "      <th>2</th>\n",
              "      <td>Ridge</td>\n",
              "      <td>0.550329</td>\n",
              "    </tr>\n",
              "    <tr>\n",
              "      <th>0</th>\n",
              "      <td>Linear Regression</td>\n",
              "      <td>0.550328</td>\n",
              "    </tr>\n",
              "    <tr>\n",
              "      <th>8</th>\n",
              "      <td>AdaBoost Regressor</td>\n",
              "      <td>0.473604</td>\n",
              "    </tr>\n",
              "    <tr>\n",
              "      <th>4</th>\n",
              "      <td>Decision Tree</td>\n",
              "      <td>0.411149</td>\n",
              "    </tr>\n",
              "    <tr>\n",
              "      <th>1</th>\n",
              "      <td>Lasso</td>\n",
              "      <td>0.031767</td>\n",
              "    </tr>\n",
              "    <tr>\n",
              "      <th>3</th>\n",
              "      <td>K-Neighbors Regressor</td>\n",
              "      <td>-0.036423</td>\n",
              "    </tr>\n",
              "  </tbody>\n",
              "</table>\n",
              "</div>\n",
              "    <div class=\"colab-df-buttons\">\n",
              "\n",
              "  <div class=\"colab-df-container\">\n",
              "    <button class=\"colab-df-convert\" onclick=\"convertToInteractive('df-1cd8c213-19d6-484b-8643-b955750693cf')\"\n",
              "            title=\"Convert this dataframe to an interactive table.\"\n",
              "            style=\"display:none;\">\n",
              "\n",
              "  <svg xmlns=\"http://www.w3.org/2000/svg\" height=\"24px\" viewBox=\"0 -960 960 960\">\n",
              "    <path d=\"M120-120v-720h720v720H120Zm60-500h600v-160H180v160Zm220 220h160v-160H400v160Zm0 220h160v-160H400v160ZM180-400h160v-160H180v160Zm440 0h160v-160H620v160ZM180-180h160v-160H180v160Zm440 0h160v-160H620v160Z\"/>\n",
              "  </svg>\n",
              "    </button>\n",
              "\n",
              "  <style>\n",
              "    .colab-df-container {\n",
              "      display:flex;\n",
              "      gap: 12px;\n",
              "    }\n",
              "\n",
              "    .colab-df-convert {\n",
              "      background-color: #E8F0FE;\n",
              "      border: none;\n",
              "      border-radius: 50%;\n",
              "      cursor: pointer;\n",
              "      display: none;\n",
              "      fill: #1967D2;\n",
              "      height: 32px;\n",
              "      padding: 0 0 0 0;\n",
              "      width: 32px;\n",
              "    }\n",
              "\n",
              "    .colab-df-convert:hover {\n",
              "      background-color: #E2EBFA;\n",
              "      box-shadow: 0px 1px 2px rgba(60, 64, 67, 0.3), 0px 1px 3px 1px rgba(60, 64, 67, 0.15);\n",
              "      fill: #174EA6;\n",
              "    }\n",
              "\n",
              "    .colab-df-buttons div {\n",
              "      margin-bottom: 4px;\n",
              "    }\n",
              "\n",
              "    [theme=dark] .colab-df-convert {\n",
              "      background-color: #3B4455;\n",
              "      fill: #D2E3FC;\n",
              "    }\n",
              "\n",
              "    [theme=dark] .colab-df-convert:hover {\n",
              "      background-color: #434B5C;\n",
              "      box-shadow: 0px 1px 3px 1px rgba(0, 0, 0, 0.15);\n",
              "      filter: drop-shadow(0px 1px 2px rgba(0, 0, 0, 0.3));\n",
              "      fill: #FFFFFF;\n",
              "    }\n",
              "  </style>\n",
              "\n",
              "    <script>\n",
              "      const buttonEl =\n",
              "        document.querySelector('#df-1cd8c213-19d6-484b-8643-b955750693cf button.colab-df-convert');\n",
              "      buttonEl.style.display =\n",
              "        google.colab.kernel.accessAllowed ? 'block' : 'none';\n",
              "\n",
              "      async function convertToInteractive(key) {\n",
              "        const element = document.querySelector('#df-1cd8c213-19d6-484b-8643-b955750693cf');\n",
              "        const dataTable =\n",
              "          await google.colab.kernel.invokeFunction('convertToInteractive',\n",
              "                                                    [key], {});\n",
              "        if (!dataTable) return;\n",
              "\n",
              "        const docLinkHtml = 'Like what you see? Visit the ' +\n",
              "          '<a target=\"_blank\" href=https://colab.research.google.com/notebooks/data_table.ipynb>data table notebook</a>'\n",
              "          + ' to learn more about interactive tables.';\n",
              "        element.innerHTML = '';\n",
              "        dataTable['output_type'] = 'display_data';\n",
              "        await google.colab.output.renderOutput(dataTable, element);\n",
              "        const docLink = document.createElement('div');\n",
              "        docLink.innerHTML = docLinkHtml;\n",
              "        element.appendChild(docLink);\n",
              "      }\n",
              "    </script>\n",
              "  </div>\n",
              "\n",
              "\n",
              "<div id=\"df-4646e23c-c572-46e6-82d8-6ba87b0e74eb\">\n",
              "  <button class=\"colab-df-quickchart\" onclick=\"quickchart('df-4646e23c-c572-46e6-82d8-6ba87b0e74eb')\"\n",
              "            title=\"Suggest charts\"\n",
              "            style=\"display:none;\">\n",
              "\n",
              "<svg xmlns=\"http://www.w3.org/2000/svg\" height=\"24px\"viewBox=\"0 0 24 24\"\n",
              "     width=\"24px\">\n",
              "    <g>\n",
              "        <path d=\"M19 3H5c-1.1 0-2 .9-2 2v14c0 1.1.9 2 2 2h14c1.1 0 2-.9 2-2V5c0-1.1-.9-2-2-2zM9 17H7v-7h2v7zm4 0h-2V7h2v10zm4 0h-2v-4h2v4z\"/>\n",
              "    </g>\n",
              "</svg>\n",
              "  </button>\n",
              "\n",
              "<style>\n",
              "  .colab-df-quickchart {\n",
              "      --bg-color: #E8F0FE;\n",
              "      --fill-color: #1967D2;\n",
              "      --hover-bg-color: #E2EBFA;\n",
              "      --hover-fill-color: #174EA6;\n",
              "      --disabled-fill-color: #AAA;\n",
              "      --disabled-bg-color: #DDD;\n",
              "  }\n",
              "\n",
              "  [theme=dark] .colab-df-quickchart {\n",
              "      --bg-color: #3B4455;\n",
              "      --fill-color: #D2E3FC;\n",
              "      --hover-bg-color: #434B5C;\n",
              "      --hover-fill-color: #FFFFFF;\n",
              "      --disabled-bg-color: #3B4455;\n",
              "      --disabled-fill-color: #666;\n",
              "  }\n",
              "\n",
              "  .colab-df-quickchart {\n",
              "    background-color: var(--bg-color);\n",
              "    border: none;\n",
              "    border-radius: 50%;\n",
              "    cursor: pointer;\n",
              "    display: none;\n",
              "    fill: var(--fill-color);\n",
              "    height: 32px;\n",
              "    padding: 0;\n",
              "    width: 32px;\n",
              "  }\n",
              "\n",
              "  .colab-df-quickchart:hover {\n",
              "    background-color: var(--hover-bg-color);\n",
              "    box-shadow: 0 1px 2px rgba(60, 64, 67, 0.3), 0 1px 3px 1px rgba(60, 64, 67, 0.15);\n",
              "    fill: var(--button-hover-fill-color);\n",
              "  }\n",
              "\n",
              "  .colab-df-quickchart-complete:disabled,\n",
              "  .colab-df-quickchart-complete:disabled:hover {\n",
              "    background-color: var(--disabled-bg-color);\n",
              "    fill: var(--disabled-fill-color);\n",
              "    box-shadow: none;\n",
              "  }\n",
              "\n",
              "  .colab-df-spinner {\n",
              "    border: 2px solid var(--fill-color);\n",
              "    border-color: transparent;\n",
              "    border-bottom-color: var(--fill-color);\n",
              "    animation:\n",
              "      spin 1s steps(1) infinite;\n",
              "  }\n",
              "\n",
              "  @keyframes spin {\n",
              "    0% {\n",
              "      border-color: transparent;\n",
              "      border-bottom-color: var(--fill-color);\n",
              "      border-left-color: var(--fill-color);\n",
              "    }\n",
              "    20% {\n",
              "      border-color: transparent;\n",
              "      border-left-color: var(--fill-color);\n",
              "      border-top-color: var(--fill-color);\n",
              "    }\n",
              "    30% {\n",
              "      border-color: transparent;\n",
              "      border-left-color: var(--fill-color);\n",
              "      border-top-color: var(--fill-color);\n",
              "      border-right-color: var(--fill-color);\n",
              "    }\n",
              "    40% {\n",
              "      border-color: transparent;\n",
              "      border-right-color: var(--fill-color);\n",
              "      border-top-color: var(--fill-color);\n",
              "    }\n",
              "    60% {\n",
              "      border-color: transparent;\n",
              "      border-right-color: var(--fill-color);\n",
              "    }\n",
              "    80% {\n",
              "      border-color: transparent;\n",
              "      border-right-color: var(--fill-color);\n",
              "      border-bottom-color: var(--fill-color);\n",
              "    }\n",
              "    90% {\n",
              "      border-color: transparent;\n",
              "      border-bottom-color: var(--fill-color);\n",
              "    }\n",
              "  }\n",
              "</style>\n",
              "\n",
              "  <script>\n",
              "    async function quickchart(key) {\n",
              "      const quickchartButtonEl =\n",
              "        document.querySelector('#' + key + ' button');\n",
              "      quickchartButtonEl.disabled = true;  // To prevent multiple clicks.\n",
              "      quickchartButtonEl.classList.add('colab-df-spinner');\n",
              "      try {\n",
              "        const charts = await google.colab.kernel.invokeFunction(\n",
              "            'suggestCharts', [key], {});\n",
              "      } catch (error) {\n",
              "        console.error('Error during call to suggestCharts:', error);\n",
              "      }\n",
              "      quickchartButtonEl.classList.remove('colab-df-spinner');\n",
              "      quickchartButtonEl.classList.add('colab-df-quickchart-complete');\n",
              "    }\n",
              "    (() => {\n",
              "      let quickchartButtonEl =\n",
              "        document.querySelector('#df-4646e23c-c572-46e6-82d8-6ba87b0e74eb button');\n",
              "      quickchartButtonEl.style.display =\n",
              "        google.colab.kernel.accessAllowed ? 'block' : 'none';\n",
              "    })();\n",
              "  </script>\n",
              "</div>\n",
              "\n",
              "    </div>\n",
              "  </div>\n"
            ],
            "application/vnd.google.colaboratory.intrinsic+json": {
              "type": "dataframe",
              "summary": "{\n  \"name\": \"pd\",\n  \"rows\": 9,\n  \"fields\": [\n    {\n      \"column\": \"Model Name\",\n      \"properties\": {\n        \"dtype\": \"string\",\n        \"num_unique_values\": 9,\n        \"samples\": [\n          \"Lasso\",\n          \"XGBRegressor\",\n          \"AdaBoost Regressor\"\n        ],\n        \"semantic_type\": \"\",\n        \"description\": \"\"\n      }\n    },\n    {\n      \"column\": \"R2_Score\",\n      \"properties\": {\n        \"dtype\": \"number\",\n        \"std\": 0.28252787465745316,\n        \"min\": -0.03642313545694509,\n        \"max\": 0.7207682148277683,\n        \"num_unique_values\": 9,\n        \"samples\": [\n          0.03176678377229114,\n          0.713430356720147,\n          0.47360402854830497\n        ],\n        \"semantic_type\": \"\",\n        \"description\": \"\"\n      }\n    }\n  ]\n}"
            }
          },
          "metadata": {},
          "execution_count": 77
        }
      ]
    },
    {
      "cell_type": "code",
      "source": [
        "# Define the best parameters obtained from hyperparameter tuning\n",
        "xgb_best_params = {'learning_rate': 0.1, 'max_depth': 7, 'n_estimators': 300}\n",
        "catboost_best_params = {'depth': 7, 'learning_rate': 0.2, 'n_estimators': 300}\n",
        "\n",
        "# Initialize and train XGBoost model with best parameters\n",
        "xgb_model = XGBRegressor(**xgb_best_params)\n",
        "xgb_model.fit(X_train, y_train)\n",
        "\n",
        "# Initialize and train CatBoost model with best parameters\n",
        "catboost_model = CatBoostRegressor(**catboost_best_params, verbose=False)\n",
        "catboost_model.fit(X_train, y_train)\n",
        "\n",
        "# Make predictions\n",
        "y_pred_xgb = xgb_model.predict(X_test)\n",
        "y_pred_catboost = catboost_model.predict(X_test)\n",
        "\n",
        "# Evaluate models using the evaluate_model function\n",
        "xgb_mae, xgb_rmse, xgb_r2 = evaluate_model(y_test, y_pred_xgb)\n",
        "catboost_mae, catboost_rmse, catboost_r2 = evaluate_model(y_test, y_pred_catboost)\n",
        "\n",
        "# Print evaluation metrics\n",
        "print(\"XGBoost Model Evaluation:\")\n",
        "print(\"- MAE:\", xgb_mae)\n",
        "print(\"- RMSE:\", xgb_rmse)\n",
        "print(\"- R2 Score:\", xgb_r2)\n",
        "print(\"\\nCatBoost Model Evaluation:\")\n",
        "print(\"- MAE:\", catboost_mae)\n",
        "print(\"- RMSE:\", catboost_rmse)\n",
        "print(\"- R2 Score:\", catboost_r2)"
      ],
      "metadata": {
        "id": "B5WpLX5UbWiA",
        "colab": {
          "base_uri": "https://localhost:8080/"
        },
        "outputId": "344043d9-e0f7-4404-832e-55a245e55481"
      },
      "execution_count": 80,
      "outputs": [
        {
          "output_type": "stream",
          "name": "stdout",
          "text": [
            "XGBoost Model Evaluation:\n",
            "- MAE: 0.2732536829955739\n",
            "- RMSE: 0.3778894623213432\n",
            "- R2 Score: 0.7196204932259123\n",
            "\n",
            "CatBoost Model Evaluation:\n",
            "- MAE: 0.27355529034156234\n",
            "- RMSE: 0.37784529994617044\n",
            "- R2 Score: 0.719686022978254\n"
          ]
        }
      ]
    },
    {
      "cell_type": "markdown",
      "source": [
        "The R2 score Of Catboost On Test case came out to be the highest at .072 on test case and 0.76 on training data\n",
        "on hyper parameter tunning also there wasnt an increase in r2 score"
      ],
      "metadata": {
        "id": "VUVhfUQBpB7t"
      }
    },
    {
      "cell_type": "code",
      "source": [],
      "metadata": {
        "id": "3F9sbEd4hVeH"
      },
      "execution_count": null,
      "outputs": []
    }
  ]
}